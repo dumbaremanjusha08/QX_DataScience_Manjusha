{
 "cells": [
  {
   "cell_type": "code",
   "execution_count": 42,
   "metadata": {},
   "outputs": [
    {
     "name": "stdout",
     "output_type": "stream",
     "text": [
      "Once deleted, variables cannot be recovered. Proceed (y/[n])? y\n",
      "The autoreload extension is already loaded. To reload it, use:\n",
      "  %reload_ext autoreload\n"
     ]
    }
   ],
   "source": [
    "%reset\n",
    "import os\n",
    "from math import *\n",
    "from PIL import Image\n",
    "import numpy as np\n",
    "import matplotlib.pyplot as plt\n",
    "from helpers import *\n",
    "from classifiers.pca import *\n",
    "from classifiers.knn import *\n",
    "from cifar_loading import *\n",
    "%matplotlib inline\n",
    "%load_ext autoreload\n",
    "%autoreload 2"
   ]
  },
  {
   "cell_type": "code",
   "execution_count": 4,
   "metadata": {
    "collapsed": true
   },
   "outputs": [],
   "source": [
    "root = 'orl_faces'\n",
    "X, y = load_faces(root)"
   ]
  },
  {
   "cell_type": "code",
   "execution_count": 5,
   "metadata": {
    "collapsed": true
   },
   "outputs": [],
   "source": [
    "train_mask = [10*i + j for i in range(40) for j in range(7) ]\n",
    "test_mask = [10*i + j for i in range(40) for j in range(7,10) ]\n",
    "X_train = X[train_mask,:]\n",
    "X_test = X[test_mask,:]\n",
    "y_train = y[train_mask]\n",
    "y_test = y[test_mask]"
   ]
  },
  {
   "cell_type": "code",
   "execution_count": 9,
   "metadata": {},
   "outputs": [
    {
     "name": "stdout",
     "output_type": "stream",
     "text": [
      "31\n",
      "(10304,) (10304, 31)\n",
      "44\n",
      "(10304,) (10304, 44)\n",
      "64\n",
      "(10304,) (10304, 64)\n",
      "95\n",
      "(10304,) (10304, 95)\n"
     ]
    }
   ],
   "source": [
    "# pca\n",
    "alpha = [0.8, 0.85, 0.9, 0.95]\n",
    "U = []\n",
    "pca = []\n",
    "for x in range(0,len(alpha)):\n",
    "    o = PCA()\n",
    "    pca.append(o)\n",
    "    U.append(pca[x].train(X_train, alpha=alpha[x], load_path='./pca_bonus_projection.npz', verbose=False))\n",
    "    U[x] = np.real(U[x])"
   ]
  },
  {
   "cell_type": "code",
   "execution_count": 11,
   "metadata": {},
   "outputs": [
    {
     "data": {
      "text/plain": [
       "<matplotlib.image.AxesImage at 0x7ff2001109b0>"
      ]
     },
     "execution_count": 11,
     "metadata": {},
     "output_type": "execute_result"
    },
    {
     "data": {
      "image/png": "[encoded data removed]",
      "text/plain": [
       "<matplotlib.figure.Figure at 0x7ff200672358>"
      ]
     },
     "metadata": {},
     "output_type": "display_data"
    }
   ],
   "source": [
    "plt.imshow(U[0][:,6].reshape((112,92)),cmap='gray')"
   ]
  },
  {
   "cell_type": "code",
   "execution_count": 12,
   "metadata": {
    "collapsed": true
   },
   "outputs": [],
   "source": [
    "X_train_pca = []\n",
    "for y in range(0,len(U)):\n",
    "    X_train_pca.append(pca[y].project(X_train))\n",
    "X_test_pca = []\n",
    "for y in range(0,len(U)):\n",
    "    X_test_pca.append(pca[y].project(X_test))  "
   ]
  },
  {
   "cell_type": "code",
   "execution_count": 13,
   "metadata": {},
   "outputs": [
    {
     "name": "stdout",
     "output_type": "stream",
     "text": [
      "training accuracy 0 = 1.0\n",
      "testing accuracy 0 = 0.8\n",
      "training accuracy 1 = 1.0\n",
      "testing accuracy 1 = 0.7833333333333333\n",
      "training accuracy 2 = 1.0\n",
      "testing accuracy 2 = 0.7916666666666666\n",
      "training accuracy 3 = 1.0\n",
      "testing accuracy 3 = 0.775\n"
     ]
    }
   ],
   "source": [
    "for x in range(0,len(alpha)):\n",
    "    knn_1 = K_nearest_neighbour()\n",
    "    knn_1.train(X_train_pca[x], y_train)\n",
    "    test_predictions = knn_1.predict(X_test_pca[x])\n",
    "    train_predictions = knn_1.predict(X_train_pca[x])\n",
    "    train_accuracy = np.mean(train_predictions == y_train)\n",
    "    test_accuracy = np.mean(test_predictions == y_test)\n",
    "    print(f'training accuracy {x} = {train_accuracy}')\n",
    "    print(f'testing accuracy {x} = {test_accuracy}')"
   ]
  },
  {
   "cell_type": "code",
   "execution_count": 51,
   "metadata": {},
   "outputs": [
    {
     "name": "stdout",
     "output_type": "stream",
     "text": [
      "(10000, 32, 32, 3)\n"
     ]
    }
   ],
   "source": [
    "X_nf_train,Y_nf_train = load_CIFAR_batch('./non-faces/cifar-10-batches-py/data_batch_1')\n",
    "print(X_nf_train.shape)"
   ]
  },
  {
   "cell_type": "code",
   "execution_count": 52,
   "metadata": {
    "collapsed": true
   },
   "outputs": [],
   "source": [
    "X_nf_train = np.apply_along_axis(weightedAverage, 3, X_nf_train)"
   ]
  },
  {
   "cell_type": "code",
   "execution_count": 53,
   "metadata": {},
   "outputs": [
    {
     "data": {
      "text/plain": [
       "<matplotlib.image.AxesImage at 0x7ff1fa20b630>"
      ]
     },
     "execution_count": 53,
     "metadata": {},
     "output_type": "execute_result"
    },
    {
     "data": {
      "image/png": "[encoded data removed]",
      "text/plain": [
       "<matplotlib.figure.Figure at 0x7ff1fa1dea20>"
      ]
     },
     "metadata": {},
     "output_type": "display_data"
    }
   ],
   "source": [
    "plt.gray()\n",
    "plt.imshow(X_nf_train[0])"
   ]
  },
  {
   "cell_type": "code",
   "execution_count": 62,
   "metadata": {},
   "outputs": [
    {
     "name": "stdout",
     "output_type": "stream",
     "text": [
      "(10000, 32, 32)\n"
     ]
    },
    {
     "data": {
      "text/plain": [
       "(10000, 112, 92)"
      ]
     },
     "execution_count": 62,
     "metadata": {},
     "output_type": "execute_result"
    }
   ],
   "source": [
    "from skimage import data\n",
    "from skimage.transform import resize\n",
    "print(X_nf_train.shape)\n",
    "def reshape_and_resize(img):\n",
    "    img_32 = img.reshape((32,32))\n",
    "    return resize(img_32, (112,92), mode='reflect')\n",
    "P=X_nf_train.reshape((-1,32*32))\n",
    "X_reshaped = np.apply_along_axis(reshape_and_resize, 1, P)\n",
    "X_reshaped.shape"
   ]
  },
  {
   "cell_type": "markdown",
   "metadata": {
    "collapsed": true
   },
   "source": [
    "## Number of dominant eigenvectors in LDA\n",
    "The number of dominant eigenvactors needed in the LDA is equal to the number of classes minus 1, in CIFAR-10 we have 10 classes so the dominant eigenvactors needed is 9"
   ]
  }
 ],
 "metadata": {
  "kernelspec": {
   "display_name": "Python 3",
   "language": "python",
   "name": "python3"
  },
  "language_info": {
   "codemirror_mode": {
    "name": "ipython",
    "version": 3
   },
   "file_extension": ".py",
   "mimetype": "text/x-python",
   "name": "python",
   "nbconvert_exporter": "python",
   "pygments_lexer": "ipython3",
   "version": "3.6.3"
  }
 },
 "nbformat": 4,
 "nbformat_minor": 2
}

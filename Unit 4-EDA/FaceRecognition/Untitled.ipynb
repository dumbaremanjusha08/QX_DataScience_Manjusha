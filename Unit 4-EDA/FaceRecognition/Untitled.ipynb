{
 "cells": [
  {
   "cell_type": "code",
   "execution_count": 2,
   "metadata": {},
   "outputs": [],
   "source": [
    "# reset\n",
    "from fisherfaces import FisherFaces\n",
    "import os\n",
    "from math import *\n",
    "from PIL import Image\n",
    "import numpy as np\n",
    "import matplotlib.pyplot as plt\n",
    "from helpers import *\n",
    "from classifiers.lda import *\n",
    "from classifiers.knn import *\n",
    "%matplotlib inline\n",
    "%load_ext autoreload\n",
    "%autoreload 2"
   ]
  },
  {
   "cell_type": "code",
   "execution_count": 3,
   "metadata": {},
   "outputs": [],
   "source": [
    "root = 'orl_faces'\n",
    "X, y = load_faces(root)\n",
    "X_train = X[0:400:2,:]\n",
    "X_test = X[1:400:2,:]\n",
    "y_train = y[0:400:2]\n",
    "y_test = y[1:400:2]"
   ]
  },
  {
   "cell_type": "code",
   "execution_count": 4,
   "metadata": {},
   "outputs": [
    {
     "data": {
      "text/plain": [
       "array([[ 34,  34,  33, ...,  37,  40,  33],\n",
       "       [ 39,  44,  53, ...,  29,  26,  29],\n",
       "       [ 64,  76,  80, ...,  35,  37,  39],\n",
       "       ...,\n",
       "       [110, 109, 111, ...,  94,  88,  90],\n",
       "       [112, 109, 116, ...,  93,  88,  92],\n",
       "       [110, 112, 113, ...,  92,  87,  90]], dtype=uint8)"
      ]
     },
     "execution_count": 4,
     "metadata": {},
     "output_type": "execute_result"
    }
   ],
   "source": [
    "X_test"
   ]
  },
  {
   "cell_type": "code",
   "execution_count": null,
   "metadata": {},
   "outputs": [
    {
     "name": "stdout",
     "output_type": "stream",
     "text": [
      "calculating pca projection matrix\n",
      "computing covariance matrix\n",
      "computing eigenvectors\n",
      "slicing eigenvectors based on alpha or r\n"
     ]
    }
   ],
   "source": [
    "ff = FisherFaces()\n",
    "classes = 5\n",
    "U = ff.train(X_train, y_train, classes, verbose=True, load_path='fisherfaces')\n"
   ]
  },
  {
   "cell_type": "code",
   "execution_count": null,
   "metadata": {},
   "outputs": [],
   "source": [
    " j0     00000"
   ]
  }
 ],
 "metadata": {
  "kernelspec": {
   "display_name": "Python 3",
   "language": "python",
   "name": "python3"
  },
  "language_info": {
   "codemirror_mode": {
    "name": "ipython",
    "version": 3
   },
   "file_extension": ".py",
   "mimetype": "text/x-python",
   "name": "python",
   "nbconvert_exporter": "python",
   "pygments_lexer": "ipython3",
   "version": "3.7.3"
  }
 },
 "nbformat": 4,
 "nbformat_minor": 2
}

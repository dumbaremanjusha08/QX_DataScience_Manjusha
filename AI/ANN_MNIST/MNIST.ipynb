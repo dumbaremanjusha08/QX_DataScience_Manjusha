{
 "cells": [
  {
   "cell_type": "code",
   "execution_count": 3,
   "metadata": {},
   "outputs": [],
   "source": [
    "from __future__ import print_function"
   ]
  },
  {
   "cell_type": "code",
   "execution_count": 5,
   "metadata": {},
   "outputs": [
    {
     "name": "stderr",
     "output_type": "stream",
     "text": [
      "Using TensorFlow backend.\n"
     ]
    }
   ],
   "source": [
    "import keras\n",
    "from keras.datasets import mnist\n",
    "from keras.models import Sequential\n",
    "from keras.layers import Dense, Dropout\n",
    "from keras.optimizers import RMSprop"
   ]
  },
  {
   "cell_type": "code",
   "execution_count": 6,
   "metadata": {},
   "outputs": [],
   "source": [
    "batch_size = 128\n",
    "num_classes = 10\n",
    "epochs = 20"
   ]
  },
  {
   "cell_type": "code",
   "execution_count": 7,
   "metadata": {},
   "outputs": [
    {
     "name": "stdout",
     "output_type": "stream",
     "text": [
      "Downloading data from https://s3.amazonaws.com/img-datasets/mnist.npz\n",
      "11493376/11490434 [==============================] - 21s 2us/step\n"
     ]
    }
   ],
   "source": [
    "# the data, split between train and test sets\n",
    "(x_train, y_train), (x_test, y_test) = mnist.load_data()"
   ]
  },
  {
   "cell_type": "code",
   "execution_count": 9,
   "metadata": {},
   "outputs": [
    {
     "data": {
      "text/plain": [
       "array([5, 0, 4, ..., 5, 6, 8], dtype=uint8)"
      ]
     },
     "execution_count": 9,
     "metadata": {},
     "output_type": "execute_result"
    }
   ],
   "source": [
    "y_train"
   ]
  },
  {
   "cell_type": "code",
   "execution_count": 10,
   "metadata": {},
   "outputs": [
    {
     "name": "stdout",
     "output_type": "stream",
     "text": [
      "60000 train samples\n",
      "10000 test samples\n"
     ]
    }
   ],
   "source": [
    "x_train = x_train.reshape(60000, 784)\n",
    "x_test = x_test.reshape(10000, 784)\n",
    "x_train = x_train.astype('float32')\n",
    "x_test = x_test.astype('float32')\n",
    "x_train /= 255\n",
    "x_test /= 255\n",
    "print(x_train.shape[0], 'train samples')\n",
    "print(x_test.shape[0], 'test samples')"
   ]
  },
  {
   "cell_type": "code",
   "execution_count": 11,
   "metadata": {},
   "outputs": [],
   "source": [
    "\n",
    "# convert class vectors to binary class matrices\n",
    "y_train = keras.utils.to_categorical(y_train, num_classes)\n",
    "y_test = keras.utils.to_categorical(y_test, num_classes)"
   ]
  },
  {
   "cell_type": "code",
   "execution_count": 12,
   "metadata": {},
   "outputs": [
    {
     "data": {
      "text/plain": [
       "array([[0., 0., 0., ..., 1., 0., 0.],\n",
       "       [0., 0., 1., ..., 0., 0., 0.],\n",
       "       [0., 1., 0., ..., 0., 0., 0.],\n",
       "       ...,\n",
       "       [0., 0., 0., ..., 0., 0., 0.],\n",
       "       [0., 0., 0., ..., 0., 0., 0.],\n",
       "       [0., 0., 0., ..., 0., 0., 0.]], dtype=float32)"
      ]
     },
     "execution_count": 12,
     "metadata": {},
     "output_type": "execute_result"
    }
   ],
   "source": [
    "y_test"
   ]
  },
  {
   "cell_type": "code",
   "execution_count": 13,
   "metadata": {},
   "outputs": [],
   "source": [
    "model = Sequential()\n",
    "model.add(Dense(512, activation='relu', input_shape=(784,)))\n",
    "model.add(Dropout(0.2))\n",
    "model.add(Dense(512, activation='relu'))\n",
    "model.add(Dropout(0.2))\n",
    "model.add(Dense(num_classes, activation='softmax'))"
   ]
  },
  {
   "cell_type": "code",
   "execution_count": 14,
   "metadata": {},
   "outputs": [
    {
     "name": "stdout",
     "output_type": "stream",
     "text": [
      "Model: \"sequential_1\"\n",
      "_________________________________________________________________\n",
      "Layer (type)                 Output Shape              Param #   \n",
      "=================================================================\n",
      "dense_1 (Dense)              (None, 512)               401920    \n",
      "_________________________________________________________________\n",
      "dropout_1 (Dropout)          (None, 512)               0         \n",
      "_________________________________________________________________\n",
      "dense_2 (Dense)              (None, 512)               262656    \n",
      "_________________________________________________________________\n",
      "dropout_2 (Dropout)          (None, 512)               0         \n",
      "_________________________________________________________________\n",
      "dense_3 (Dense)              (None, 10)                5130      \n",
      "=================================================================\n",
      "Total params: 669,706\n",
      "Trainable params: 669,706\n",
      "Non-trainable params: 0\n",
      "_________________________________________________________________\n"
     ]
    }
   ],
   "source": [
    "model.summary()"
   ]
  },
  {
   "cell_type": "code",
   "execution_count": 15,
   "metadata": {},
   "outputs": [],
   "source": [
    "model.compile(loss='categorical_crossentropy',\n",
    "              optimizer=RMSprop(),\n",
    "              metrics=['accuracy'])"
   ]
  },
  {
   "cell_type": "code",
   "execution_count": 16,
   "metadata": {},
   "outputs": [
    {
     "name": "stdout",
     "output_type": "stream",
     "text": [
      "Train on 60000 samples, validate on 10000 samples\n",
      "Epoch 1/20\n",
      "60000/60000 [==============================] - 8s 135us/step - loss: 0.2478 - accuracy: 0.9240 - val_loss: 0.1110 - val_accuracy: 0.9659\n",
      "Epoch 2/20\n",
      "60000/60000 [==============================] - 7s 117us/step - loss: 0.1037 - accuracy: 0.9681 - val_loss: 0.0846 - val_accuracy: 0.9744\n",
      "Epoch 3/20\n",
      "60000/60000 [==============================] - 7s 116us/step - loss: 0.0774 - accuracy: 0.9759 - val_loss: 0.0677 - val_accuracy: 0.9793\n",
      "Epoch 4/20\n",
      "60000/60000 [==============================] - 7s 117us/step - loss: 0.0592 - accuracy: 0.9824 - val_loss: 0.0757 - val_accuracy: 0.9793\n",
      "Epoch 5/20\n",
      "60000/60000 [==============================] - 7s 118us/step - loss: 0.0510 - accuracy: 0.9840 - val_loss: 0.0800 - val_accuracy: 0.9783\n",
      "Epoch 6/20\n",
      "60000/60000 [==============================] - 7s 121us/step - loss: 0.0422 - accuracy: 0.9875 - val_loss: 0.0737 - val_accuracy: 0.9818\n",
      "Epoch 7/20\n",
      "60000/60000 [==============================] - 7s 122us/step - loss: 0.0379 - accuracy: 0.9882 - val_loss: 0.0845 - val_accuracy: 0.9804\n",
      "Epoch 8/20\n",
      "60000/60000 [==============================] - 7s 117us/step - loss: 0.0344 - accuracy: 0.9898 - val_loss: 0.0831 - val_accuracy: 0.9821\n",
      "Epoch 9/20\n",
      "60000/60000 [==============================] - 7s 117us/step - loss: 0.0291 - accuracy: 0.9911 - val_loss: 0.0875 - val_accuracy: 0.9812\n",
      "Epoch 10/20\n",
      "60000/60000 [==============================] - 7s 118us/step - loss: 0.0277 - accuracy: 0.9915 - val_loss: 0.0804 - val_accuracy: 0.9836\n",
      "Epoch 11/20\n",
      "60000/60000 [==============================] - 7s 121us/step - loss: 0.0249 - accuracy: 0.9927 - val_loss: 0.0951 - val_accuracy: 0.9845\n",
      "Epoch 12/20\n",
      "60000/60000 [==============================] - 7s 118us/step - loss: 0.0244 - accuracy: 0.9926 - val_loss: 0.0935 - val_accuracy: 0.9832\n",
      "Epoch 13/20\n",
      "60000/60000 [==============================] - 7s 118us/step - loss: 0.0230 - accuracy: 0.9930 - val_loss: 0.1092 - val_accuracy: 0.9817\n",
      "Epoch 14/20\n",
      "60000/60000 [==============================] - 7s 121us/step - loss: 0.0222 - accuracy: 0.9937 - val_loss: 0.0951 - val_accuracy: 0.9832\n",
      "Epoch 15/20\n",
      "60000/60000 [==============================] - 7s 118us/step - loss: 0.0205 - accuracy: 0.9941 - val_loss: 0.1163 - val_accuracy: 0.9811\n",
      "Epoch 16/20\n",
      "60000/60000 [==============================] - 7s 120us/step - loss: 0.0201 - accuracy: 0.9939 - val_loss: 0.0969 - val_accuracy: 0.9850\n",
      "Epoch 17/20\n",
      "60000/60000 [==============================] - 7s 115us/step - loss: 0.0156 - accuracy: 0.9954 - val_loss: 0.1105 - val_accuracy: 0.9833\n",
      "Epoch 18/20\n",
      "60000/60000 [==============================] - 8s 125us/step - loss: 0.0182 - accuracy: 0.9951 - val_loss: 0.1218 - val_accuracy: 0.9828\n",
      "Epoch 19/20\n",
      "60000/60000 [==============================] - 7s 119us/step - loss: 0.0156 - accuracy: 0.9956 - val_loss: 0.1211 - val_accuracy: 0.9823\n",
      "Epoch 20/20\n",
      "60000/60000 [==============================] - 7s 119us/step - loss: 0.0151 - accuracy: 0.9957 - val_loss: 0.1347 - val_accuracy: 0.9827\n"
     ]
    }
   ],
   "source": [
    "history = model.fit(x_train, y_train,\n",
    "                    batch_size=batch_size,\n",
    "                    epochs=epochs,\n",
    "                    verbose=1,\n",
    "                    validation_data=(x_test, y_test))"
   ]
  },
  {
   "cell_type": "code",
   "execution_count": 17,
   "metadata": {},
   "outputs": [
    {
     "data": {
      "text/plain": [
       "<keras.callbacks.callbacks.History at 0x1c0219bcc48>"
      ]
     },
     "execution_count": 17,
     "metadata": {},
     "output_type": "execute_result"
    }
   ],
   "source": [
    "history"
   ]
  },
  {
   "cell_type": "code",
   "execution_count": 18,
   "metadata": {},
   "outputs": [
    {
     "name": "stdout",
     "output_type": "stream",
     "text": [
      "Test loss: 0.1347115177537648\n",
      "Test accuracy: 0.982699990272522\n"
     ]
    }
   ],
   "source": [
    "score = model.evaluate(x_test, y_test, verbose=0)\n",
    "print('Test loss:', score[0])\n",
    "print('Test accuracy:', score[1])"
   ]
  }
 ],
 "metadata": {
  "kernelspec": {
   "display_name": "Python 3",
   "language": "python",
   "name": "python3"
  },
  "language_info": {
   "codemirror_mode": {
    "name": "ipython",
    "version": 3
   },
   "file_extension": ".py",
   "mimetype": "text/x-python",
   "name": "python",
   "nbconvert_exporter": "python",
   "pygments_lexer": "ipython3",
   "version": "3.7.4"
  }
 },
 "nbformat": 4,
 "nbformat_minor": 2
}

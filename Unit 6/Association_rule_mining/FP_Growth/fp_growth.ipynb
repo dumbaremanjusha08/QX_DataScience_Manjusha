{
 "cells": [
  {
   "cell_type": "code",
   "execution_count": 1,
   "metadata": {},
   "outputs": [
    {
     "name": "stdout",
     "output_type": "stream",
     "text": [
      "Collecting pyfpgrowth\n",
      "  Downloading https://files.pythonhosted.org/packages/d2/4c/8b7cd90b4118ff0286d6584909b99e1ca5642bdc9072fa5a8dd361c864a0/pyfpgrowth-1.0.tar.gz (1.6MB)\n",
      "Building wheels for collected packages: pyfpgrowth\n",
      "  Building wheel for pyfpgrowth (setup.py): started\n",
      "  Building wheel for pyfpgrowth (setup.py): finished with status 'done'\n",
      "  Stored in directory: C:\\Users\\Sachin\\AppData\\Local\\pip\\Cache\\wheels\\3b\\3f\\0d\\a04bb8b17887c1eca7d0f1a48d4aa0c09c96eb221ff7fa56c1\n",
      "Successfully built pyfpgrowth\n",
      "Installing collected packages: pyfpgrowth\n",
      "Successfully installed pyfpgrowth-1.0\n",
      "Note: you may need to restart the kernel to use updated packages.\n"
     ]
    }
   ],
   "source": [
    "pip install pyfpgrowth"
   ]
  },
  {
   "cell_type": "code",
   "execution_count": 2,
   "metadata": {},
   "outputs": [],
   "source": [
    "import pandas as pd\n",
    "import numpy as np\n",
    "import pyfpgrowth"
   ]
  },
  {
   "cell_type": "code",
   "execution_count": 5,
   "metadata": {},
   "outputs": [],
   "source": [
    "data = pd.read_csv(\"transaction_data.csv\")"
   ]
  },
  {
   "cell_type": "code",
   "execution_count": 6,
   "metadata": {},
   "outputs": [
    {
     "data": {
      "text/html": [
       "<div>\n",
       "<style scoped>\n",
       "    .dataframe tbody tr th:only-of-type {\n",
       "        vertical-align: middle;\n",
       "    }\n",
       "\n",
       "    .dataframe tbody tr th {\n",
       "        vertical-align: top;\n",
       "    }\n",
       "\n",
       "    .dataframe thead th {\n",
       "        text-align: right;\n",
       "    }\n",
       "</style>\n",
       "<table border=\"1\" class=\"dataframe\">\n",
       "  <thead>\n",
       "    <tr style=\"text-align: right;\">\n",
       "      <th></th>\n",
       "      <th>Transaction Id</th>\n",
       "      <th>Items</th>\n",
       "    </tr>\n",
       "  </thead>\n",
       "  <tbody>\n",
       "    <tr>\n",
       "      <th>0</th>\n",
       "      <td>T1</td>\n",
       "      <td>Apple Orange Grape</td>\n",
       "    </tr>\n",
       "    <tr>\n",
       "      <th>1</th>\n",
       "      <td>T2</td>\n",
       "      <td>Apple Orange</td>\n",
       "    </tr>\n",
       "    <tr>\n",
       "      <th>2</th>\n",
       "      <td>T3</td>\n",
       "      <td>Mango Pineapple Papaya</td>\n",
       "    </tr>\n",
       "    <tr>\n",
       "      <th>3</th>\n",
       "      <td>T4</td>\n",
       "      <td>Apple Papaya</td>\n",
       "    </tr>\n",
       "    <tr>\n",
       "      <th>4</th>\n",
       "      <td>T5</td>\n",
       "      <td>Grape Orange Pineapple</td>\n",
       "    </tr>\n",
       "  </tbody>\n",
       "</table>\n",
       "</div>"
      ],
      "text/plain": [
       "  Transaction Id                   Items\n",
       "0             T1      Apple Orange Grape\n",
       "1             T2            Apple Orange\n",
       "2             T3  Mango Pineapple Papaya\n",
       "3             T4            Apple Papaya\n",
       "4             T5  Grape Orange Pineapple"
      ]
     },
     "execution_count": 6,
     "metadata": {},
     "output_type": "execute_result"
    }
   ],
   "source": [
    "data"
   ]
  },
  {
   "cell_type": "code",
   "execution_count": 7,
   "metadata": {},
   "outputs": [
    {
     "data": {
      "text/plain": [
       "(5, 2)"
      ]
     },
     "execution_count": 7,
     "metadata": {},
     "output_type": "execute_result"
    }
   ],
   "source": [
    "data.shape"
   ]
  },
  {
   "cell_type": "code",
   "execution_count": 13,
   "metadata": {},
   "outputs": [],
   "source": [
    "data = pd.DataFrame(data)"
   ]
  },
  {
   "cell_type": "code",
   "execution_count": 16,
   "metadata": {},
   "outputs": [
    {
     "data": {
      "text/plain": [
       "0        Apple Orange Grape\n",
       "1              Apple Orange\n",
       "2    Mango Pineapple Papaya\n",
       "3              Apple Papaya\n",
       "4    Grape Orange Pineapple\n",
       "Name: Items, dtype: object"
      ]
     },
     "execution_count": 16,
     "metadata": {},
     "output_type": "execute_result"
    }
   ],
   "source": [
    "data[\"Items\"]"
   ]
  },
  {
   "cell_type": "code",
   "execution_count": 17,
   "metadata": {},
   "outputs": [],
   "source": [
    "patterns = pyfpgrowth. find_frequent_patterns(data['Items'], 10)"
   ]
  },
  {
   "cell_type": "code",
   "execution_count": 18,
   "metadata": {},
   "outputs": [
    {
     "data": {
      "text/plain": [
       "{('a', 'e', 'e'): 30,\n",
       " ('a', 'e', 'e', 'p'): 89,\n",
       " ('a', 'a', 'e', 'e'): 31,\n",
       " ('a', 'a', 'e', 'e', 'p'): 31,\n",
       " ('e', 'e', 'p'): 32,\n",
       " ('e', 'e', 'p', 'p'): 31,\n",
       " ('a', 'e'): 33,\n",
       " ('a', 'e', 'p'): 97,\n",
       " ('a', 'a', 'e'): 38,\n",
       " ('a', 'a', 'e', 'p'): 38,\n",
       " ('e', 'p'): 34,\n",
       " ('e', 'p', 'p'): 32,\n",
       " ('p', 'p'): 13,\n",
       " ('a', 'p', 'p'): 40,\n",
       " ('a', 'p'): 41,\n",
       " ('a', 'a', 'p'): 51,\n",
       " ('a', 'a', 'a'): 12,\n",
       " ('a', 'a', 'a', 'p'): 33,\n",
       " ('a', 'a', 'p', 'p'): 33}"
      ]
     },
     "execution_count": 18,
     "metadata": {},
     "output_type": "execute_result"
    }
   ],
   "source": [
    "patterns"
   ]
  },
  {
   "cell_type": "code",
   "execution_count": 19,
   "metadata": {},
   "outputs": [],
   "source": [
    "rules = pyfpgrowth. generate_association_rules(patterns,0.8)"
   ]
  },
  {
   "cell_type": "code",
   "execution_count": 20,
   "metadata": {},
   "outputs": [
    {
     "data": {
      "text/plain": [
       "{('a', 'e'): (('p',), 1.1515151515151516),\n",
       " ('a', 'p'): ((), 0.8048780487804879),\n",
       " ('e', 'p'): ((), 0.9411764705882353),\n",
       " ('a', 'e', 'e'): (('p',), 1.0333333333333334),\n",
       " ('a', 'e', 'p'): ((), 0.9175257731958762),\n",
       " ('e', 'e', 'p'): ((), 0.96875),\n",
       " ('a', 'a', 'e'): (('p',), 1.0),\n",
       " ('a', 'a', 'e', 'e'): (('p',), 1.0),\n",
       " ('a', 'a', 'e', 'p'): ((), 0.8157894736842105),\n",
       " ('p', 'p'): (('a',), 2.5384615384615383),\n",
       " ('e', 'p', 'p'): ((), 0.96875),\n",
       " ('a', 'a', 'a'): (('p',), 2.75),\n",
       " ('a', 'p', 'p'): ((), 0.825)}"
      ]
     },
     "execution_count": 20,
     "metadata": {},
     "output_type": "execute_result"
    }
   ],
   "source": [
    "rules"
   ]
  },
  {
   "cell_type": "code",
   "execution_count": 22,
   "metadata": {},
   "outputs": [],
   "source": [
    "def support_count(rhs):\n",
    "    count = 0\n",
    "    rhs = set(rhs)\n",
    "    for j in data['Items']:\n",
    "        j = set(j)\n",
    "        if(rhs.issubset(j)):\n",
    "            count = count + 1\n",
    "    return count"
   ]
  },
  {
   "cell_type": "code",
   "execution_count": null,
   "metadata": {},
   "outputs": [],
   "source": [
    "rhs_support = []\n",
    "for i in rules_df[]"
   ]
  }
 ],
 "metadata": {
  "kernelspec": {
   "display_name": "Python 3",
   "language": "python",
   "name": "python3"
  },
  "language_info": {
   "codemirror_mode": {
    "name": "ipython",
    "version": 3
   },
   "file_extension": ".py",
   "mimetype": "text/x-python",
   "name": "python",
   "nbconvert_exporter": "python",
   "pygments_lexer": "ipython3",
   "version": "3.7.3"
  }
 },
 "nbformat": 4,
 "nbformat_minor": 2
}
